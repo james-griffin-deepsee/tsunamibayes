{
 "cells": [
  {
   "cell_type": "code",
   "execution_count": 2,
   "metadata": {},
   "outputs": [
    {
     "ename": "SyntaxError",
     "evalue": "invalid syntax (<ipython-input-2-fd2b3f84ddb4>, line 1)",
     "output_type": "error",
     "traceback": [
      "\u001b[1;36m  File \u001b[1;32m\"<ipython-input-2-fd2b3f84ddb4>\"\u001b[1;36m, line \u001b[1;32m1\u001b[0m\n\u001b[1;33m    from tsunamibayes as tb\u001b[0m\n\u001b[1;37m                       ^\u001b[0m\n\u001b[1;31mSyntaxError\u001b[0m\u001b[1;31m:\u001b[0m invalid syntax\n"
     ]
    }
   ],
   "source": [
    "import tsunamibayes as tb\n",
    "import numpy as np"
   ]
  },
  {
   "cell_type": "markdown",
   "metadata": {},
   "source": [
    "# Testing Haversine (Distance Between Points on Globe)"
   ]
  },
  {
   "cell_type": "code",
   "execution_count": 3,
   "metadata": {
    "collapsed": true
   },
   "outputs": [],
   "source": []
  },
  {
   "cell_type": "code",
   "execution_count": 4,
   "metadata": {},
   "outputs": [
    {
     "data": {
      "text/plain": [
       "96.993326104622071"
      ]
     },
     "execution_count": 4,
     "metadata": {},
     "output_type": "execute_result"
    }
   ],
   "source": [
    "R = 6.3781e6    #Radius of the earth\n",
    "lat1 = 50.06638889    #Just two random lat/lon coordinates for testings purposes\n",
    "lon1 = 5.71472222\n",
    "lat2 = 58.64388889\n",
    "lon2 = 3.070000\n",
    "distance = haversine(lat1,lon1,lat2,lon2)\n",
    "distance/10000      #This is the correct distance according to some other distance calculators found on Google."
   ]
  },
  {
   "cell_type": "code",
   "execution_count": 5,
   "metadata": {},
   "outputs": [
    {
     "data": {
      "image/png": "[encoded data removed]",
      "text/plain": [
       "<matplotlib.figure.Figure at 0x22e2c994080>"
      ]
     },
     "metadata": {},
     "output_type": "display_data"
    }
   ],
   "source": [
    "import matplotlib.pyplot as plt\n",
    "pointsx = [lat1, lat2]\n",
    "pointsy = [lon1, lon2]\n",
    "plt.plot(pointsx, pointsy, 'ro')\n",
    "plt.plot(pointsx,pointsy)\n",
    "plt.show()"
   ]
  },
  {
   "cell_type": "markdown",
   "metadata": {},
   "source": [
    "# Creat a Reference Curve Fault Object"
   ]
  },
  {
   "cell_type": "code",
   "execution_count": 8,
   "metadata": {},
   "outputs": [
    {
     "name": "stdout",
     "output_type": "stream",
     "text": [
      "     OBJECTID  Shape_Length     START_X   START_Y       END_X     END_Y  \\\n",
      "0           1      0.008964  120.519996 -6.794426  120.523974 -6.786393   \n",
      "1           2      0.008964  120.523974 -6.786393  120.527912 -6.778340   \n",
      "2           3      0.008964  120.527912 -6.778340  120.531808 -6.770267   \n",
      "3           4      0.008964  120.531808 -6.770267  120.535664 -6.762174   \n",
      "4           5      0.008964  120.535664 -6.762174  120.539478 -6.754062   \n",
      "5           6      0.008964  120.539478 -6.754062  120.543249 -6.745929   \n",
      "6           7      0.008964  120.543249 -6.745929  120.546979 -6.737778   \n",
      "7           8      0.008964  120.546979 -6.737778  120.550666 -6.729607   \n",
      "8           9      0.008964  120.550666 -6.729607  120.554309 -6.721417   \n",
      "9          10      0.008964  120.554309 -6.721417  120.557910 -6.713207   \n",
      "10         11      0.008964  120.557910 -6.713207  120.561466 -6.704979   \n",
      "11         12      0.008964  120.561466 -6.704979  120.564979 -6.696732   \n",
      "12         13      0.008964  120.564979 -6.696732  120.568447 -6.688466   \n",
      "13         14      0.008964  120.568447 -6.688466  120.571870 -6.680181   \n",
      "14         15      0.008964  120.571870 -6.680181  120.575249 -6.671877   \n",
      "15         16      0.008964  120.575249 -6.671877  120.578581 -6.663556   \n",
      "16         17      0.008964  120.578581 -6.663556  120.581868 -6.655216   \n",
      "17         18      0.008964  120.581868 -6.655216  120.585109 -6.646858   \n",
      "18         19      0.008964  120.585109 -6.646858  120.588304 -6.638482   \n",
      "19         20      0.008964  120.588304 -6.638482  120.591451 -6.630089   \n",
      "20         21      0.008964  120.591451 -6.630089  120.594552 -6.621678   \n",
      "21         22      0.008964  120.594552 -6.621678  120.597605 -6.613250   \n",
      "22         23      0.008964  120.597605 -6.613250  120.600610 -6.604805   \n",
      "23         24      0.008964  120.600610 -6.604805  120.603568 -6.596342   \n",
      "24         25      0.008964  120.603568 -6.596342  120.606477 -6.587863   \n",
      "25         26      0.008964  120.606477 -6.587863  120.609337 -6.579368   \n",
      "26         27      0.008964  120.609337 -6.579368  120.612148 -6.570856   \n",
      "27         28      0.008964  120.612148 -6.570856  120.614911 -6.562328   \n",
      "28         29      0.008964  120.614911 -6.562328  120.617623 -6.553784   \n",
      "29         30      0.008964  120.617623 -6.553784  120.620286 -6.545224   \n",
      "..        ...           ...         ...       ...         ...       ...   \n",
      "328       329      0.008918  120.077224 -4.032163  120.077995 -4.023278   \n",
      "329       330      0.008904  120.077995 -4.023278  120.078714 -4.014404   \n",
      "330       331      0.008904  120.078714 -4.014404  120.079320 -4.005521   \n",
      "331       332      0.008904  120.079320 -4.005521  120.079825 -3.996631   \n",
      "332       333      0.008904  120.079825 -3.996631  120.080238 -3.987737   \n",
      "333       334      0.008904  120.080238 -3.987737  120.080568 -3.978839   \n",
      "334       335      0.008904  120.080568 -3.978839  120.080819 -3.969939   \n",
      "335       336      0.008904  120.080819 -3.969939  120.081000 -3.961037   \n",
      "336       337      0.008904  120.081000 -3.961037  120.081115 -3.952134   \n",
      "337       338      0.008904  120.081115 -3.952134  120.081168 -3.943230   \n",
      "338       339      0.008904  120.081168 -3.943230  120.081164 -3.934327   \n",
      "339       340      0.008904  120.081164 -3.934327  120.081105 -3.925423   \n",
      "340       341      0.008904  120.081105 -3.925423  120.080996 -3.916520   \n",
      "341       342      0.008904  120.080996 -3.916520  120.080838 -3.907617   \n",
      "342       343      0.008904  120.080838 -3.907617  120.080634 -3.898716   \n",
      "343       344      0.008904  120.080634 -3.898716  120.080386 -3.889816   \n",
      "344       345      0.008904  120.080386 -3.889816  120.080096 -3.880917   \n",
      "345       346      0.008904  120.080096 -3.880917  120.079766 -3.872019   \n",
      "346       347      0.008904  120.079766 -3.872019  120.079397 -3.863123   \n",
      "347       348      0.008904  120.079397 -3.863123  120.078990 -3.854228   \n",
      "348       349      0.008904  120.078990 -3.854228  120.078546 -3.845335   \n",
      "349       350      0.008904  120.078546 -3.845335  120.078067 -3.836445   \n",
      "350       351      0.008904  120.078067 -3.836445  120.077553 -3.827556   \n",
      "351       352      0.008904  120.077553 -3.827556  120.077004 -3.818669   \n",
      "352       353      0.008904  120.077004 -3.818669  120.076420 -3.809784   \n",
      "353       354      0.008904  120.076420 -3.809784  120.075801 -3.800902   \n",
      "354       355      0.008904  120.075801 -3.800902  120.075146 -3.792022   \n",
      "355       356      0.008904  120.075146 -3.792022  120.074453 -3.783145   \n",
      "356       357      0.008904  120.074453 -3.783145  120.073718 -3.774272   \n",
      "357       358      0.008904  120.073718 -3.774272  120.072927 -3.765403   \n",
      "\n",
      "       Azimuth  CenterLong  CenterLat      Strike  \n",
      "0    26.344874  120.521985  -6.790409  206.344874  \n",
      "1    26.056120  120.525943  -6.782366  206.056120  \n",
      "2    25.765521  120.529860  -6.774303  205.765521  \n",
      "3    25.473100  120.533736  -6.766220  205.473100  \n",
      "4    25.178847  120.537571  -6.758118  205.178847  \n",
      "5    24.882792  120.541364  -6.749996  204.882792  \n",
      "6    24.584928  120.545114  -6.741854  204.584928  \n",
      "7    24.285294  120.548822  -6.733692  204.285294  \n",
      "8    23.983880  120.552488  -6.725512  203.983880  \n",
      "9    23.680716  120.556110  -6.717312  203.680716  \n",
      "10   23.375809  120.559688  -6.709093  203.375809  \n",
      "11   23.069183  120.563223  -6.700855  203.069183  \n",
      "12   22.760847  120.566713  -6.692599  202.760847  \n",
      "13   22.450838  120.570159  -6.684323  202.450838  \n",
      "14   22.139146  120.573560  -6.676029  202.139146  \n",
      "15   21.825835  120.576915  -6.667717  201.825835  \n",
      "16   21.510888  120.580225  -6.659386  201.510888  \n",
      "17   21.194342  120.583489  -6.651037  201.194342  \n",
      "18   20.876227  120.586706  -6.642670  200.876227  \n",
      "19   20.556567  120.589877  -6.634286  200.556567  \n",
      "20   20.235379  120.593002  -6.625884  200.235379  \n",
      "21   19.912700  120.596078  -6.617464  199.912700  \n",
      "22   19.588567  120.599108  -6.609027  199.588567  \n",
      "23   19.262990  120.602089  -6.600573  199.262990  \n",
      "24   18.936005  120.605022  -6.592103  198.936005  \n",
      "25   18.607660  120.607907  -6.583615  198.607660  \n",
      "26   18.277973  120.610743  -6.575112  198.277973  \n",
      "27   17.946978  120.613529  -6.566592  197.946978  \n",
      "28   17.614720  120.616267  -6.558056  197.614720  \n",
      "29   17.281240  120.618955  -6.549504  197.281240  \n",
      "..         ...         ...        ...         ...  \n",
      "328   4.956121  120.077609  -4.027721  184.956121  \n",
      "329   4.633271  120.078354  -4.018841  184.633271  \n",
      "330   3.905729  120.079017  -4.009962  183.905729  \n",
      "331   3.251561  120.079573  -4.001076  183.251561  \n",
      "332   2.658803  120.080032  -3.992184  182.658803  \n",
      "333   2.118046  120.080403  -3.983288  182.118046  \n",
      "334   1.621691  120.080694  -3.974389  181.621691  \n",
      "335   1.163549  120.080910  -3.965488  181.163549  \n",
      "336   0.738566  120.081058  -3.956586  180.738566  \n",
      "337   0.342454  120.081142  -3.947682  180.342454  \n",
      "338  -0.028314  120.081166  -3.938778  179.971686  \n",
      "339  -0.376817  120.081135  -3.929875  179.623183  \n",
      "340  -0.705629  120.081051  -3.920971  179.294371  \n",
      "341  -1.017034  120.080917  -3.912069  178.982966  \n",
      "342  -1.313035  120.080736  -3.903167  178.686965  \n",
      "343  -1.595378  120.080510  -3.894266  178.404622  \n",
      "344  -1.865675  120.080241  -3.885366  178.134325  \n",
      "345  -2.125375  120.079931  -3.876468  177.874625  \n",
      "346  -2.375832  120.079581  -3.867571  177.624168  \n",
      "347  -2.618347  120.079193  -3.858675  177.381653  \n",
      "348  -2.854226  120.078768  -3.849782  177.145774  \n",
      "349  -3.084748  120.078307  -3.840890  176.915252  \n",
      "350  -3.311342  120.077810  -3.832000  176.688658  \n",
      "351  -3.535617  120.077278  -3.823112  176.464383  \n",
      "352  -3.759513  120.076712  -3.814226  176.240487  \n",
      "353  -3.985685  120.076111  -3.805343  176.014315  \n",
      "354  -4.218018  120.075474  -3.796462  175.781982  \n",
      "355  -4.463316  120.074800  -3.787584  175.536684  \n",
      "356  -4.736398  120.074086  -3.778709  175.263602  \n",
      "357  -5.100594  120.073322  -3.769838  174.899406  \n",
      "\n",
      "[358 rows x 10 columns]\n",
      "     OBJECTID  Shape_Length     START_X   START_Y       END_X     END_Y  \\\n",
      "0           1      0.008969  114.570012 -7.685378  114.578894 -7.686630   \n",
      "1           2      0.008969  114.578894 -7.686630  114.587775 -7.687878   \n",
      "2           3      0.008969  114.587775 -7.687878  114.596657 -7.689123   \n",
      "3           4      0.008969  114.596657 -7.689123  114.605540 -7.690365   \n",
      "4           5      0.008969  114.605540 -7.690365  114.614423 -7.691603   \n",
      "5           6      0.008969  114.614423 -7.691603  114.623306 -7.692838   \n",
      "6           7      0.008969  114.623306 -7.692838  114.632190 -7.694070   \n",
      "7           8      0.008969  114.632190 -7.694070  114.641075 -7.695298   \n",
      "8           9      0.008969  114.641075 -7.695298  114.649960 -7.696523   \n",
      "9          10      0.008969  114.649960 -7.696523  114.658845 -7.697745   \n",
      "10         11      0.008969  114.658845 -7.697745  114.667730 -7.698964   \n",
      "11         12      0.008969  114.667730 -7.698964  114.676617 -7.700180   \n",
      "12         13      0.008969  114.676617 -7.700180  114.685503 -7.701392   \n",
      "13         14      0.008969  114.685503 -7.701392  114.694390 -7.702602   \n",
      "14         15      0.008969  114.694390 -7.702602  114.703278 -7.703808   \n",
      "15         16      0.008969  114.703278 -7.703808  114.712165 -7.705012   \n",
      "16         17      0.008969  114.712165 -7.705012  114.721054 -7.706212   \n",
      "17         18      0.008969  114.721054 -7.706212  114.729942 -7.707409   \n",
      "18         19      0.008969  114.729942 -7.707409  114.738831 -7.708603   \n",
      "19         20      0.008969  114.738831 -7.708603  114.747721 -7.709795   \n",
      "20         21      0.008969  114.747721 -7.709795  114.756611 -7.710983   \n",
      "21         22      0.008969  114.756611 -7.710983  114.765501 -7.712168   \n",
      "22         23      0.008969  114.765501 -7.712168  114.774392 -7.713350   \n",
      "23         24      0.008969  114.774392 -7.713350  114.783283 -7.714530   \n",
      "24         25      0.008969  114.783283 -7.714530  114.792174 -7.715706   \n",
      "25         26      0.008969  114.792174 -7.715706  114.801066 -7.716880   \n",
      "26         27      0.008969  114.801066 -7.716880  114.809958 -7.718051   \n",
      "27         28      0.008969  114.809958 -7.718051  114.818851 -7.719219   \n",
      "28         29      0.008969  114.818851 -7.719219  114.827744 -7.720383   \n",
      "29         30      0.008969  114.827744 -7.720383  114.836637 -7.721546   \n",
      "..        ...           ...         ...       ...         ...       ...   \n",
      "779       780      0.008946  121.497704 -7.975036  121.506454 -7.976898   \n",
      "780       781      0.008946  121.506454 -7.976898  121.515216 -7.978704   \n",
      "781       782      0.008946  121.515216 -7.978704  121.523989 -7.980452   \n",
      "782       783      0.008946  121.523989 -7.980452  121.532773 -7.982141   \n",
      "783       784      0.008946  121.532773 -7.982141  121.541569 -7.983771   \n",
      "784       785      0.008946  121.541569 -7.983771  121.550376 -7.985339   \n",
      "785       786      0.008946  121.550376 -7.985339  121.559194 -7.986844   \n",
      "786       787      0.008946  121.559194 -7.986844  121.568023 -7.988285   \n",
      "787       788      0.008946  121.568023 -7.988285  121.576862 -7.989661   \n",
      "788       789      0.008946  121.576862 -7.989661  121.585711 -7.990971   \n",
      "789       790      0.008946  121.585711 -7.990971  121.594570 -7.992214   \n",
      "790       791      0.008946  121.594570 -7.992214  121.603438 -7.993389   \n",
      "791       792      0.008946  121.603438 -7.993389  121.612315 -7.994495   \n",
      "792       793      0.008946  121.612315 -7.994495  121.621200 -7.995532   \n",
      "793       794      0.008946  121.621200 -7.995532  121.630093 -7.996500   \n",
      "794       795      0.008946  121.630093 -7.996500  121.638993 -7.997397   \n",
      "795       796      0.008946  121.638993 -7.997397  121.647901 -7.998223   \n",
      "796       797      0.008946  121.647901 -7.998223  121.656814 -7.998978   \n",
      "797       798      0.008946  121.656814 -7.998978  121.665734 -7.999661   \n",
      "798       799      0.008946  121.665734 -7.999661  121.674658 -8.000273   \n",
      "799       800      0.008946  121.674658 -8.000273  121.683587 -8.000814   \n",
      "800       801      0.008946  121.683587 -8.000814  121.692521 -8.001283   \n",
      "801       802      0.008946  121.692521 -8.001283  121.701457 -8.001680   \n",
      "802       803      0.008946  121.701457 -8.001680  121.710397 -8.002006   \n",
      "803       804      0.008946  121.710397 -8.002006  121.719339 -8.002262   \n",
      "804       805      0.008946  121.719339 -8.002262  121.728282 -8.002446   \n",
      "805       806      0.008946  121.728282 -8.002446  121.737227 -8.002560   \n",
      "806       807      0.008946  121.737227 -8.002560  121.746173 -8.002605   \n",
      "807       808      0.008946  121.746173 -8.002605  121.755118 -8.002580   \n",
      "808       809      0.008946  121.755118 -8.002580  121.764063 -8.002486   \n",
      "\n",
      "        AZIMUTH  CenterLong  CenterLat      Strike  \n",
      "0     98.022872  114.574453  -7.686004   98.022872  \n",
      "1     98.000808  114.583334  -7.687254   98.000808  \n",
      "2     97.978929  114.592216  -7.688501   97.978929  \n",
      "3     97.957253  114.601099  -7.689744   97.957253  \n",
      "4     97.935787  114.609981  -7.690984   97.935787  \n",
      "5     97.914491  114.618865  -7.692220   97.914491  \n",
      "6     97.893380  114.627748  -7.693454   97.893380  \n",
      "7     97.872433  114.636632  -7.694684   97.872433  \n",
      "8     97.851649  114.645517  -7.695911   97.851649  \n",
      "9     97.831039  114.654402  -7.697134   97.831039  \n",
      "10    97.810566  114.663288  -7.698355   97.810566  \n",
      "11    97.790254  114.672174  -7.699572   97.790254  \n",
      "12    97.770074  114.681060  -7.700786   97.770074  \n",
      "13    97.750048  114.689947  -7.701997   97.750048  \n",
      "14    97.730140  114.698834  -7.703205   97.730140  \n",
      "15    97.710368  114.707722  -7.704410   97.710368  \n",
      "16    97.690713  114.716610  -7.705612   97.690713  \n",
      "17    97.671186  114.725498  -7.706811   97.671186  \n",
      "18    97.651767  114.734387  -7.708006   97.651767  \n",
      "19    97.632467  114.743276  -7.709199   97.632467  \n",
      "20    97.613275  114.752166  -7.710389   97.613275  \n",
      "21    97.594165  114.761056  -7.711575   97.594165  \n",
      "22    97.575185  114.769946  -7.712759   97.575185  \n",
      "23    97.556290  114.778837  -7.713940   97.556290  \n",
      "24    97.537473  114.787728  -7.715118   97.537473  \n",
      "25    97.518774  114.796620  -7.716293   97.518774  \n",
      "26    97.500139  114.805512  -7.717465   97.500139  \n",
      "27    97.481601  114.814404  -7.718635   97.481601  \n",
      "28    97.463130  114.823297  -7.719801   97.463130  \n",
      "29    97.444748  114.832190  -7.720965   97.444748  \n",
      "..          ...         ...        ...         ...  \n",
      "779  102.010509  121.502079  -7.975967  102.010509  \n",
      "780  101.645183  121.510835  -7.977801  101.645183  \n",
      "781  101.270459  121.519602  -7.979578  101.270459  \n",
      "782  100.886714  121.528381  -7.981297  100.886714  \n",
      "783  100.494396  121.537171  -7.982956  100.494396  \n",
      "784  100.093942  121.545973  -7.984555  100.093942  \n",
      "785   99.685842  121.554785  -7.986091   99.685842  \n",
      "786   99.270569  121.563608  -7.987564   99.270569  \n",
      "787   98.848648  121.572442  -7.988973   98.848648  \n",
      "788   98.420599  121.581286  -7.990316   98.420599  \n",
      "789   97.986951  121.590140  -7.991592   97.986951  \n",
      "790   97.548257  121.599004  -7.992801   97.548257  \n",
      "791   97.105066  121.607876  -7.993942   97.105066  \n",
      "792   96.657938  121.616757  -7.995014   96.657938  \n",
      "793   96.207438  121.625646  -7.996016   96.207438  \n",
      "794   95.754098  121.634543  -7.996948   95.754098  \n",
      "795   95.298493  121.643447  -7.997810   95.298493  \n",
      "796   94.841167  121.652357  -7.998600   94.841167  \n",
      "797   94.382635  121.661274  -7.999319   94.382635  \n",
      "798   93.923453  121.670196  -7.999967   93.923453  \n",
      "799   93.464112  121.679123  -8.000543   93.464112  \n",
      "800   93.005109  121.688054  -8.001048   93.005109  \n",
      "801   92.546941  121.696989  -8.001481   92.546941  \n",
      "802   92.090044  121.705927  -8.001843   92.090044  \n",
      "803   91.634876  121.714868  -8.002134   91.634876  \n",
      "804   91.181854  121.723811  -8.002354   91.181854  \n",
      "805   90.731366  121.732755  -8.002503   90.731366  \n",
      "806   90.283812  121.741700  -8.002583   90.283812  \n",
      "807   89.839517  121.750645  -8.002592   89.839517  \n",
      "808   89.398830  121.759591  -8.002533   89.398830  \n",
      "\n",
      "[809 rows x 10 columns]\n"
     ]
    }
   ],
   "source": [
    "import pandas as pd     #Pandas is the library that contains some useful objects/functions for storing and organizing data.\n",
    "\n",
    "df = pd.read_excel ('Flores.xlsx')     #df stands for data frame for the Flores fault.\n",
    "dfwalinae = pd.read_excel('Walinae.xlsx')    #the data frame containing the coordinates for the Walinae fault. \n",
    "print(dfwalinae)\n",
    "print (df)"
   ]
  },
  {
   "cell_type": "code",
   "execution_count": 20,
   "metadata": {},
   "outputs": [
    {
     "data": {
      "text/plain": [
       "[RangeIndex(start=0, stop=809, step=1),\n",
       " Index(['OBJECTID', 'Shape_Length', 'START_X', 'START_Y', 'END_X', 'END_Y',\n",
       "        'AZIMUTH', 'CenterLong', 'CenterLat', 'Strike'],\n",
       "       dtype='object')]"
      ]
     },
     "execution_count": 20,
     "metadata": {},
     "output_type": "execute_result"
    }
   ],
   "source": [
    "df.axes"
   ]
  },
  {
   "cell_type": "code",
   "execution_count": 21,
   "metadata": {
    "collapsed": true
   },
   "outputs": [],
   "source": [
    "latpoints = df.iloc[:,8]    #We slice here the important information: lat/lon/strike coordinates. We don't really use the other columns according to my knowledge\n",
    "lonpoints = df.iloc[:,7]    \n",
    "strikepts = df.iloc[:,9]\n",
    "latpoints2 = dfwalinae.iloc[:,8]\n",
    "lonpoints2 = dfwalinae.iloc[:,7]\n",
    "strikepts2 = dfwalinae.iloc[:,9]\n",
    "\n",
    "#From what I understand, these slices are not numpy Arrays, they still contain the column title/index.\n"
   ]
  },
  {
   "cell_type": "code",
   "execution_count": 22,
   "metadata": {
    "collapsed": true
   },
   "outputs": [],
   "source": [
    "latpoints = latpoints.values      #Values changes the columns that we sliced into a array that we can use in graphing.\n",
    "lonpoints = lonpoints.values      \n",
    "strikepts = strikepts.values\n",
    "latpoints2 = latpoints2.values\n",
    "lonpoints2 = lonpoints2.values\n",
    "strikepts2 = strikepts2.values"
   ]
  },
  {
   "cell_type": "code",
   "execution_count": 23,
   "metadata": {},
   "outputs": [
    {
     "data": {
      "image/png": "[encoded data removed]",
      "text/plain": [
       "<matplotlib.figure.Figure at 0x22e2d70e400>"
      ]
     },
     "metadata": {},
     "output_type": "display_data"
    }
   ],
   "source": [
    "plt.plot(lonpoints, latpoints)\n",
    "ax = plt.gca()\n",
    "ax.set_aspect('equal')\n",
    "plt.show()\n",
    "#Flores fault lat/lon. "
   ]
  },
  {
   "cell_type": "code",
   "execution_count": 24,
   "metadata": {},
   "outputs": [
    {
     "data": {
      "image/png": "[encoded data removed]",
      "text/plain": [
       "<matplotlib.figure.Figure at 0x22e2e7acb00>"
      ]
     },
     "metadata": {},
     "output_type": "display_data"
    }
   ],
   "source": [
    "plt.plot(lonpoints2, latpoints2)\n",
    "ax = plt.gca()\n",
    "ax.set_aspect('equal')\n",
    "plt.show()\n",
    "#Walinae fault lat/lon...\n",
    "#This one will be a little weirder to make sure we don't have weird discontinuties when we interpolate the strike angle."
   ]
  },
  {
   "cell_type": "code",
   "execution_count": 25,
   "metadata": {
    "scrolled": true
   },
   "outputs": [
    {
     "data": {
      "image/png": "[encoded data removed]",
      "text/plain": [
       "<matplotlib.figure.Figure at 0x22e2e7af048>"
      ]
     },
     "metadata": {},
     "output_type": "display_data"
    }
   ],
   "source": [
    "plt.plot(lonpoints, strikepts)\n",
    "plt.show()"
   ]
  },
  {
   "cell_type": "code",
   "execution_count": 26,
   "metadata": {},
   "outputs": [
    {
     "data": {
      "text/plain": [
       "[-8.0025921586169488,\n",
       " 114.5744529879782,\n",
       " -7.6806788868203171,\n",
       " 121.7595906871211]"
      ]
     },
     "execution_count": 26,
     "metadata": {},
     "output_type": "execute_result"
    }
   ],
   "source": [
    "#Creating the bounds for our fault object.\n",
    "minlat = latpoints.min()\n",
    "maxlat = latpoints.max()\n",
    "minlon = lonpoints.min()\n",
    "maxlon = lonpoints.max()\n",
    "[minlat,\n",
    "minlon,\n",
    "maxlat,\n",
    "maxlon]\n"
   ]
  },
  {
   "cell_type": "code",
   "execution_count": 27,
   "metadata": {
    "collapsed": true
   },
   "outputs": [],
   "source": [
    "bounds = {'lon_min' : minlon,'lon_max' : maxlon,\n",
    "            'lat_min' : minlat, 'lat_max':maxlat}"
   ]
  },
  {
   "cell_type": "code",
   "execution_count": 1,
   "metadata": {},
   "outputs": [
    {
     "ename": "NameError",
     "evalue": "name 'bounds' is not defined",
     "output_type": "error",
     "traceback": [
      "\u001b[1;31m---------------------------------------------------------------------------\u001b[0m",
      "\u001b[1;31mNameError\u001b[0m                                 Traceback (most recent call last)",
      "\u001b[1;32m<ipython-input-1-ece5a95b7001>\u001b[0m in \u001b[0;36m<module>\u001b[1;34m()\u001b[0m\n\u001b[1;32m----> 1\u001b[1;33m \u001b[0mbounds\u001b[0m\u001b[1;33m\u001b[0m\u001b[0m\n\u001b[0m",
      "\u001b[1;31mNameError\u001b[0m: name 'bounds' is not defined"
     ]
    }
   ],
   "source": [
    "bounds"
   ]
  },
  {
   "cell_type": "code",
   "execution_count": 2,
   "metadata": {
    "collapsed": true
   },
   "outputs": [],
   "source": [
    "#Using some test dip/depth curves. Essentially we assume that the dip/depth are constant throughout. \n",
    "\n",
    "depthcurve = lambda depth : 25*1000\n",
    "dipcurve = lambda dip : 25"
   ]
  },
  {
   "cell_type": "code",
   "execution_count": 3,
   "metadata": {},
   "outputs": [
    {
     "ename": "NameError",
     "evalue": "name 'fault' is not defined",
     "output_type": "error",
     "traceback": [
      "\u001b[1;31m---------------------------------------------------------------------------\u001b[0m",
      "\u001b[1;31mNameError\u001b[0m                                 Traceback (most recent call last)",
      "\u001b[1;32m<ipython-input-3-11678518ad16>\u001b[0m in \u001b[0;36m<module>\u001b[1;34m()\u001b[0m\n\u001b[1;32m----> 1\u001b[1;33m \u001b[0mtestCurve\u001b[0m \u001b[1;33m=\u001b[0m \u001b[0mfault\u001b[0m\u001b[1;33m.\u001b[0m\u001b[0mReferenceCurveFault\u001b[0m\u001b[1;33m(\u001b[0m\u001b[0mlatpoints\u001b[0m\u001b[1;33m,\u001b[0m\u001b[0mlonpoints\u001b[0m\u001b[1;33m,\u001b[0m\u001b[0mstrikepts\u001b[0m\u001b[1;33m,\u001b[0m\u001b[0mdepthcurve\u001b[0m\u001b[1;33m,\u001b[0m\u001b[0mdipcurve\u001b[0m\u001b[1;33m,\u001b[0m\u001b[0mbounds\u001b[0m\u001b[1;33m)\u001b[0m\u001b[1;33m\u001b[0m\u001b[0m\n\u001b[0m\u001b[0;32m      2\u001b[0m \u001b[0mtestCurve\u001b[0m\u001b[1;33m\u001b[0m\u001b[0m\n\u001b[0;32m      3\u001b[0m \u001b[1;31m#Hey, it works!\u001b[0m\u001b[1;33m\u001b[0m\u001b[1;33m\u001b[0m\u001b[0m\n",
      "\u001b[1;31mNameError\u001b[0m: name 'fault' is not defined"
     ]
    }
   ],
   "source": [
    "testCurve = fault.ReferenceCurveFault(latpoints,lonpoints,strikepts,depthcurve,dipcurve,bounds)\n",
    "testCurve\n",
    "#Hey, it works! "
   ]
  },
  {
   "cell_type": "markdown",
   "metadata": {},
   "source": [
    "# Test the Quad_Interp Function"
   ]
  },
  {
   "cell_type": "code",
   "execution_count": null,
   "metadata": {
    "collapsed": true
   },
   "outputs": [],
   "source": [
    "x = np.array([1,2,3])\n",
    "y = np.array([100,-3,25])"
   ]
  },
  {
   "cell_type": "code",
   "execution_count": null,
   "metadata": {},
   "outputs": [],
   "source": [
    "fault.ReferenceCurveFault.quad_interp(x,y)"
   ]
  },
  {
   "cell_type": "code",
   "execution_count": null,
   "metadata": {},
   "outputs": [],
   "source": [
    "#Make sure to always use numPy arrays here!!!\n",
    "\n",
    "x = np.array([1,2,3])\n",
    "y = np.array([100,-3,25])\n",
    "cof= fault.ReferenceCurveFault.quad_interp(x,y)\n",
    "\n",
    "graphx = np.linspace(1,3,100)\n",
    "graphx = np.array(graphx)\n",
    "graphy = cof[0]*graphx**2 + cof[1]*graphx + cof[2]\n",
    "plt.plot(x,y,'ro')\n",
    "plt.plot(graphx, graphy)\n",
    "plt.show()"
   ]
  },
  {
   "cell_type": "markdown",
   "metadata": {},
   "source": [
    "# Testing the Creation of Depth/Dip Curves"
   ]
  },
  {
   "cell_type": "code",
   "execution_count": null,
   "metadata": {
    "collapsed": true
   },
   "outputs": [],
   "source": [
    "#I just copied the function here because the notebook wouldn't recongize the fault.quad_interp() function\n",
    "\n",
    "def depth_dip_curves(x,y,surf_dist):\n",
    "        \"\"\"Returns callable functions for the depth and dip curves passing through\n",
    "        three points.\n",
    "\n",
    "        Parameters\n",
    "        ----------\n",
    "        x : (3,) ndarray\n",
    "            Distances from fault refernce points, in meters\n",
    "        y : (3,) ndarray\n",
    "            Depth values\n",
    "        surf_dist : float\n",
    "            Distance from fault reference points to the fault's intersection with\n",
    "            the Earth's surface\n",
    "\n",
    "        Returns\n",
    "        -------\n",
    "        depth_curve : (function)\n",
    "            The callable function that accepts one positional arugment (ie. x)\n",
    "            and returns the quadratic depth curve passing through the 3 specified points.\n",
    "        dip_curve : (function)\n",
    "            The callable function that accepts one positional arugment (ie. x)\n",
    "            and returns the quadratic dip curve passing through the 3 specified points.\n",
    "        \"\"\"\n",
    "        c = fault.ReferenceCurveFault.quad_interp(x,y) #This line doesn't like it when we call it with the class\n",
    "        depth_curve = lambda x: (c[0]*x**2 + c[1]*x + c[2])*(x > -np.abs(surf_dist))\n",
    "        dip_curve = lambda x: np.degrees(np.arctan(2*c[0]*x + c[1]))*(x > -np.abs(surf_dist))\n",
    "        return depth_curve, dip_curve"
   ]
  },
  {
   "cell_type": "code",
   "execution_count": null,
   "metadata": {},
   "outputs": [],
   "source": [
    "#Some debugging to do here...\n",
    "\n",
    "xtest = np.array([-5,10,15])\n",
    "ytest = np.array([20,25,30])\n",
    "depthcurve, dipcurve = fault.ReferenceCurveFault.depth_dip_curves(xtest,ytest,20)"
   ]
  },
  {
   "cell_type": "code",
   "execution_count": null,
   "metadata": {},
   "outputs": [],
   "source": [
    "xplot = np.linspace(0,20,100)\n",
    "yplotdepth = depthcurve(xplot)\n",
    "yplotdip = dipcurve(xplot)\n",
    "plt.plot(xplot,yplotdepth,'b')\n",
    "plt.plot(xplot,yplotdip,'r')\n",
    "plt.show()"
   ]
  },
  {
   "cell_type": "markdown",
   "metadata": {},
   "source": [
    "# Test Circ Mean (weighted mean of various angles)"
   ]
  },
  {
   "cell_type": "code",
   "execution_count": null,
   "metadata": {},
   "outputs": [],
   "source": [
    "#I simply gave each point a weight of 1 here.\n",
    "weights = [1] * len(strikepts)\n",
    "weigths = np.array(weights)\n",
    "fault.ReferenceCurveFault.circmean(strikepts,weights)"
   ]
  },
  {
   "cell_type": "markdown",
   "metadata": {},
   "source": [
    "# Testing the Side Method\n",
    "\n",
    "### We may need to double check the math on this...it appears a little finnicky"
   ]
  },
  {
   "cell_type": "code",
   "execution_count": null,
   "metadata": {},
   "outputs": [],
   "source": [
    "#Here I just tested with a random index of a point along the Flores fault. \n",
    "#I also just choose an arbitrary \"closest point\" just to understand how the function worked.\n",
    "i = 475\n",
    "closelat = latpoints[i]\n",
    "closelon = lonpoints[i]\n",
    "closestrike = strikepts[i]\n",
    "closepoint = [closelat, closelon,closestrike]\n",
    "closepoint"
   ]
  },
  {
   "cell_type": "code",
   "execution_count": null,
   "metadata": {},
   "outputs": [],
   "source": [
    "#This is the point for which we seek to find whether it's on the dipward or antidipward side.\n",
    "testlat,testlon = [-7.9, 118.9]\n",
    "fault.ReferenceCurveFault.side(testlat,testlon,closelat,closelon,closestrike)"
   ]
  },
  {
   "cell_type": "code",
   "execution_count": null,
   "metadata": {},
   "outputs": [],
   "source": [
    "plt.plot(closelon,closelat,'ro')\n",
    "plt.plot(lonpoints, latpoints)\n",
    "plt.plot(testlon, testlat, 'bx')\n",
    "plt.show()"
   ]
  },
  {
   "cell_type": "code",
   "execution_count": null,
   "metadata": {},
   "outputs": [],
   "source": [
    "testPointslat = np.array([latpoints[1]])\n",
    "testPointslon = np.array([lonpoints[1]])"
   ]
  },
  {
   "cell_type": "code",
   "execution_count": null,
   "metadata": {},
   "outputs": [],
   "source": [
    "#Would this distance function need to be called with an equal number of array elements or just a single value???\n",
    "minDistance, iminDist = distance(testPointslat, testPointslon, retclose = True)"
   ]
  },
  {
   "cell_type": "code",
   "execution_count": null,
   "metadata": {},
   "outputs": [],
   "source": [
    "np.array([testPointslat, testPointslon])"
   ]
  },
  {
   "cell_type": "code",
   "execution_count": null,
   "metadata": {},
   "outputs": [],
   "source": [
    "np.array([latpoints[iminDist],lonpoints[iminDist]])"
   ]
  },
  {
   "cell_type": "code",
   "execution_count": null,
   "metadata": {},
   "outputs": [],
   "source": [
    "fault.ReferenceCurveFault.side(testPointslat,testPointslon,latpoints[iminDist],lonpoints[iminDist], strikepts[iminDist])"
   ]
  },
  {
   "cell_type": "markdown",
   "metadata": {
    "collapsed": true
   },
   "source": [
    "# Testing Distances Function"
   ]
  },
  {
   "cell_type": "code",
   "execution_count": null,
   "metadata": {
    "collapsed": true
   },
   "outputs": [],
   "source": [
    "testlat,testlon = [-7.9, 118.9]"
   ]
  },
  {
   "cell_type": "code",
   "execution_count": null,
   "metadata": {},
   "outputs": [],
   "source": [
    "distance(testlat,testlon)"
   ]
  },
  {
   "cell_type": "code",
   "execution_count": null,
   "metadata": {},
   "outputs": [],
   "source": [
    "distance(testlat, testlon, retclose = True)"
   ]
  },
  {
   "cell_type": "code",
   "execution_count": null,
   "metadata": {},
   "outputs": [],
   "source": [
    "distance((latpoints+.1), (lonpoints+.1), retclose = True)"
   ]
  },
  {
   "cell_type": "code",
   "execution_count": null,
   "metadata": {},
   "outputs": [],
   "source": [
    "testlat,testlon = [-7.9, 118.9]\n",
    "fault.ReferenceCurveFault.side(testlat,testlon,latpoints[482],lonpoints[482],strikepts[482])"
   ]
  },
  {
   "cell_type": "code",
   "execution_count": null,
   "metadata": {},
   "outputs": [],
   "source": [
    "plt.plot(lonpoints[482],latpoints[482],'ro')\n",
    "plt.plot(lonpoints, latpoints)\n",
    "plt.plot(testlon, testlat, 'bx')\n",
    "ax = plt.gca()\n",
    "ax.set_aspect('equal')\n",
    "plt.show()"
   ]
  },
  {
   "cell_type": "code",
   "execution_count": null,
   "metadata": {
    "collapsed": true
   },
   "outputs": [],
   "source": []
  }
 ],
 "metadata": {
  "kernelspec": {
   "display_name": "Python 3",
   "language": "python",
   "name": "python3"
  },
  "language_info": {
   "codemirror_mode": {
    "name": "ipython",
    "version": 3
   },
   "file_extension": ".py",
   "mimetype": "text/x-python",
   "name": "python",
   "nbconvert_exporter": "python",
   "pygments_lexer": "ipython3",
   "version": "3.6.1"
  }
 },
 "nbformat": 4,
 "nbformat_minor": 2
}
