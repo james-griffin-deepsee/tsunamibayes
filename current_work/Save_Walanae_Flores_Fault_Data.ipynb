{
 "cells": [
  {
   "cell_type": "markdown",
   "id": "coated-overhead",
   "metadata": {},
   "source": [
    "# Save the Fault data for Walanae and Flores"
   ]
  },
  {
   "cell_type": "code",
   "execution_count": 8,
   "id": "cosmetic-swimming",
   "metadata": {},
   "outputs": [],
   "source": [
    "import numpy as np\n",
    "import pandas as pd\n",
    "from tsunamibayes.gaussian_process_regressor import GPR\n",
    "from tsunamibayes.fault import ReferenceCurveFault, GaussianProcessFault"
   ]
  },
  {
   "cell_type": "markdown",
   "id": "buried-briefing",
   "metadata": {},
   "source": [
    "## Start with Flores "
   ]
  },
  {
   "cell_type": "code",
   "execution_count": 12,
   "id": "elder-escape",
   "metadata": {},
   "outputs": [],
   "source": [
    "from sensitivity_data_loader import load_data\n",
    "\n",
    "lats, lons, depths, dips, strikes, rakes = load_data()\n",
    "\n",
    "np.savez('flores_fault_data', lats=lats, lons=lons, depths=depths, dips=dips, strikes=strikes)"
   ]
  },
  {
   "cell_type": "code",
   "execution_count": 18,
   "id": "vietnamese-savings",
   "metadata": {},
   "outputs": [
    {
     "data": {
      "text/plain": [
       "<tsunamibayes.fault.GaussianProcessFault at 0x7ff6e4c2ac10>"
      ]
     },
     "execution_count": 18,
     "metadata": {},
     "output_type": "execute_result"
    }
   ],
   "source": [
    "# Load the data to make sure that saving it worked.\n",
    "model_bounds = {\n",
    "    'lat_min': -10,\n",
    "    'lat_max': -3,\n",
    "    'lon_min': 112,\n",
    "    'lon_max': 124\n",
    "}\n",
    "ker = lambda x,y: GPR.rbf_kernel(x,y,sig=0.75)\n",
    "flores_data = np.load('flores_fault_data.npz')\n",
    "fault = GaussianProcessFault( # The Flores fault uses a GaussianProcessFault\n",
    "    bounds=model_bounds,\n",
    "    kers={'depth': ker, 'dip': ker, 'strike': ker},\n",
    "    noise={'depth': 1, 'dip': 1, 'strike': 1},\n",
    "    **flores_data\n",
    ")\n",
    "fault"
   ]
  },
  {
   "cell_type": "markdown",
   "id": "consecutive-coordinate",
   "metadata": {},
   "source": [
    "## Now save the Walanae data"
   ]
  },
  {
   "cell_type": "code",
   "execution_count": 14,
   "id": "supported-planner",
   "metadata": {},
   "outputs": [],
   "source": [
    "# Get latitude and longitude of faults.\n",
    "\n",
    "use_hypo = False # I think the Hypo data is wrong -- everything seems shifted too far left on the Walanae fault.\n",
    "if not use_hypo:\n",
    "    flores = pd.read_excel('1820_fault_data/FloresThrustSplit_TableToExcel.xlsx')\n",
    "    walanae = pd.read_excel('1820_fault_data/WalinaeFaultSplit_TableToExcel.xlsx')\n",
    "    flores_lats, flores_lons = flores[['CenterLat', 'CenterLong']].to_numpy().T\n",
    "    walanae_lats, walanae_lons = walanae[['CenterLat', 'CenterLong']].to_numpy().T\n",
    "else:\n",
    "    flores = pd.read_excel('1820_fault_data/FloresHypoSegments.xlsx')\n",
    "    walanae = pd.read_excel('1820_fault_data/WalanaeHypoSegments.xlsx')\n",
    "    flores_lats, flores_lons = flores[['Lat', 'Long']].to_numpy().T\n",
    "    walanae_lats, walanae_lons = walanae[['Lat', 'Long']].to_numpy().T\n",
    "    \n",
    "\n",
    "# Get the strike, dip, and depth data needed to initialize a ReferenceCurveFault.\n",
    "walanae_strikes = walanae['Strike'].to_numpy()\n",
    "\n",
    "# Dip angle assumed to be 25 degrees.\n",
    "def walanae_dip(x):\n",
    "    return np.ones(np.shape(x))*25 \n",
    "\n",
    "# Depths are assumed to be 20 km.\n",
    "def walanae_depth(dist):\n",
    "    \"\"\"Gives depth based on distance from fault. \n",
    "    A negative distance is higher than the base fault depth.\n",
    "    \"\"\"\n",
    "    base_depth = 20000\n",
    "    extra_depth = dist*np.tan(np.deg2rad(walanae_dip(dist)))\n",
    "    return base_depth - extra_depth\n",
    "\n",
    "np.savez(\n",
    "    'walanae_fault_data',\n",
    "    latpts=walanae_lats,\n",
    "    lonpts=walanae_lons,\n",
    "    strikepts=walanae_strikes,\n",
    "    depth_curve=walanae_depth,\n",
    "    dip_curve=walanae_dip\n",
    ")"
   ]
  },
  {
   "cell_type": "code",
   "execution_count": 16,
   "id": "advanced-spider",
   "metadata": {},
   "outputs": [
    {
     "data": {
      "text/plain": [
       "<tsunamibayes.fault.ReferenceCurveFault at 0x7ff6e2c57310>"
      ]
     },
     "execution_count": 16,
     "metadata": {},
     "output_type": "execute_result"
    }
   ],
   "source": [
    "# Load the data to make sure it worked.\n",
    "walanae_data = np.load('walanae_fault_data.npz', allow_pickle=True)\n",
    "fault = ReferenceCurveFault(bounds=model_bounds, **walanae_data)\n",
    "fault"
   ]
  },
  {
   "cell_type": "code",
   "execution_count": null,
   "id": "upset-strip",
   "metadata": {},
   "outputs": [],
   "source": []
  }
 ],
 "metadata": {
  "kernelspec": {
   "display_name": "Python 3",
   "language": "python",
   "name": "python3"
  },
  "language_info": {
   "codemirror_mode": {
    "name": "ipython",
    "version": 3
   },
   "file_extension": ".py",
   "mimetype": "text/x-python",
   "name": "python",
   "nbconvert_exporter": "python",
   "pygments_lexer": "ipython3",
   "version": "3.8.5"
  }
 },
 "nbformat": 4,
 "nbformat_minor": 5
}
